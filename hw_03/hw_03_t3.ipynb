{
 "cells": [
  {
   "cell_type": "code",
   "execution_count": 53,
   "metadata": {},
   "outputs": [],
   "source": [
    "import pandas as pd"
   ]
  },
  {
   "cell_type": "code",
   "execution_count": 54,
   "metadata": {},
   "outputs": [],
   "source": [
    "train = pd.read_csv('sf04classification/train.csv')"
   ]
  },
  {
   "cell_type": "code",
   "execution_count": 55,
   "metadata": {},
   "outputs": [],
   "source": [
    "test = pd.read_csv('sf04classification/test.csv')"
   ]
  },
  {
   "cell_type": "code",
   "execution_count": 56,
   "metadata": {},
   "outputs": [],
   "source": [
    "y = train['target']"
   ]
  },
  {
   "cell_type": "code",
   "execution_count": 57,
   "metadata": {},
   "outputs": [],
   "source": [
    "train = train.drop('target', axis=1)"
   ]
  },
  {
   "cell_type": "code",
   "execution_count": 58,
   "metadata": {},
   "outputs": [],
   "source": [
    "def getDurationClass(d, df):\n",
    "    durationStd = df.duration.std()\n",
    "    durationMin = df.duration.min()\n",
    "    durationMax = df.duration.max()\n",
    "    return {\n",
    "        (100 <= d <= 700) : True,\n",
    "        (d < 100) | (700 < d): False\n",
    "\n",
    "    }[True]\n",
    "\n",
    "def isBad(df):\n",
    "    return ((df['pdays']==999) | (df['pdays']==0)) & (df['previous']>0)\n",
    "    \n",
    "def preproc_data(df_input):\n",
    "    df_output = df_input.copy()\n",
    "    \n",
    "    df_output = df_output.drop('_id', axis=1)\n",
    "    \n",
    "    months = ['jan', 'feb', 'mar', 'apr', 'may', 'jul', 'jun', 'aug', 'sep', 'oct', 'nov','dec']\n",
    "    df_output['kvartal'] = df_output['month'].apply(lambda m : months.index(m)/3+1)\n",
    "    \n",
    "    job = list(set(df_output['job']))\n",
    "    df_output['job'] = df_output.job.apply(lambda r: job.index(r))\n",
    "\n",
    "    month = list(set(df_output['month']))\n",
    "    df_output['month'] = df_output.month.apply(lambda r: month.index(r))   \n",
    "    \n",
    "    day_of_week = list(set(df_output['day_of_week']))\n",
    "    df_output['day_of_week'] = df_output.day_of_week.apply(lambda r: day_of_week.index(r)) \n",
    "    df_output['work_day'] = df_output.day_of_week.apply(lambda r: r < 6) \n",
    "\n",
    "    df_output['pdays'] = df_output['pdays'].apply(lambda d: 0 if d == 999 else d)\n",
    "    df_output['duration_class'] = df_output['duration'].apply(lambda d: getDurationClass(d, df_output))\n",
    "\n",
    "    df_output['duration_interrupted'] = df_output['duration'].apply(lambda d: 0 if d < 30 else d)\n",
    "\n",
    "    df_output = pd.get_dummies(df_output, columns=[\n",
    "         'marital',\n",
    "         'education',\n",
    "         'default',\n",
    "         'housing',\n",
    "         'loan',\n",
    "         'contact',\n",
    "         'poutcome'\n",
    "    ])\n",
    "    \n",
    "    return df_output"
   ]
  },
  {
   "cell_type": "code",
   "execution_count": null,
   "metadata": {},
   "outputs": [],
   "source": [
    "train_work = preproc_data(train)\n",
    "test_work = preproc_data(test)"
   ]
  },
  {
   "cell_type": "code",
   "execution_count": null,
   "metadata": {},
   "outputs": [],
   "source": [
    "from sklearn.model_selection import train_test_split"
   ]
  },
  {
   "cell_type": "code",
   "execution_count": null,
   "metadata": {},
   "outputs": [],
   "source": [
    "X_train, X_test, y_train, y_test = train_test_split(train_work, y, test_size=0.33, random_state=42)"
   ]
  },
  {
   "cell_type": "code",
   "execution_count": null,
   "metadata": {},
   "outputs": [],
   "source": [
    "from sklearn.tree import DecisionTreeClassifier"
   ]
  },
  {
   "cell_type": "code",
   "execution_count": null,
   "metadata": {},
   "outputs": [],
   "source": [
    "from sklearn.neighbors import KNeighborsClassifier\n",
    "from sklearn.linear_model import LogisticRegression\n",
    "from sklearn.ensemble import RandomForestClassifier"
   ]
  },
  {
   "cell_type": "code",
   "execution_count": null,
   "metadata": {},
   "outputs": [],
   "source": []
  },
  {
   "cell_type": "code",
   "execution_count": 17,
   "metadata": {},
   "outputs": [],
   "source": [
    "from sklearn.model_selection import StratifiedKFold\n",
    "from sklearn.metrics import roc_auc_score\n",
    "from sklearn.metrics import log_loss\n",
    "\n",
    "classifiers = {\n",
    "    'tree': DecisionTreeClassifier(max_depth=5), \n",
    "    'logistic': LogisticRegression(),\n",
    "    'forest': RandomForestClassifier(),\n",
    "    'kn': KNeighborsClassifier(n_neighbors=10)\n",
    "}"
   ]
  },
  {
   "cell_type": "code",
   "execution_count": 39,
   "metadata": {
    "scrolled": true
   },
   "outputs": [
    {
     "name": "stdout",
     "output_type": "stream",
     "text": [
      "Feature ranking:\n",
      "1. feature rf (0.434713)\n",
      "2. feature dtc (0.374431)\n",
      "3. feature duration_interrupted (0.037456)\n",
      "4. feature duration (0.030397)\n",
      "5. feature euribor3m (0.025047)\n",
      "6. feature nr.employed (0.020137)\n",
      "7. feature poutcome_success (0.014954)\n",
      "8. feature pdays (0.014203)\n",
      "9. feature cons.conf.idx (0.008690)\n",
      "10. feature cons.price.idx (0.006716)\n",
      "11. feature emp.var.rate (0.006309)\n",
      "12. feature month (0.003245)\n",
      "13. feature age (0.003124)\n",
      "14. feature kvartal (0.003022)\n",
      "15. feature duration_class (0.002294)\n",
      "16. feature previous (0.002100)\n",
      "17. feature poutcome_nonexistent (0.001533)\n",
      "18. feature job (0.001481)\n",
      "19. feature poutcome_failure (0.001256)\n",
      "20. feature contact_cellular (0.001239)\n",
      "21. feature campaign (0.001036)\n",
      "22. feature day_of_week (0.000947)\n",
      "23. feature contact_telephone (0.000706)\n",
      "24. feature marital_married (0.000434)\n",
      "25. feature housing_yes (0.000411)\n",
      "26. feature education_university.degree (0.000401)\n",
      "27. feature housing_no (0.000360)\n",
      "28. feature default_no (0.000346)\n",
      "29. feature education_high.school (0.000314)\n",
      "30. feature loan_no (0.000304)\n",
      "31. feature marital_single (0.000291)\n",
      "32. feature education_basic.6y (0.000263)\n",
      "33. feature loan_yes (0.000259)\n",
      "34. feature default_unknown (0.000258)\n",
      "35. feature education_basic.9y (0.000257)\n",
      "36. feature education_basic.4y (0.000235)\n",
      "37. feature education_professional.course (0.000218)\n",
      "38. feature education_unknown (0.000195)\n",
      "39. feature marital_divorced (0.000178)\n",
      "40. feature loan_unknown (0.000119)\n",
      "41. feature housing_unknown (0.000105)\n",
      "42. feature marital_unknown (0.000014)\n",
      "43. feature work_day (0.000000)\n",
      "44. feature education_illiterate (0.000000)\n",
      "45. feature default_yes (0.000000)\n"
     ]
    }
   ],
   "source": [
    "import numpy as np\n",
    "dtc = DecisionTreeClassifier(max_depth=5)\n",
    "dtc.fit(X_train, y_train)\n",
    "\n",
    "knn = KNeighborsClassifier(n_neighbors=3)\n",
    "knn.fit(X_train, y_train)\n",
    "\n",
    "lr = LogisticRegression()\n",
    "#lr = LogisticRegression(n_jobs=-1, class_weight='balanced', solver='newton-cg', multi_class='multinomial')\n",
    "lr.fit(X_train, y_train)\n",
    "\n",
    "rf = RandomForestClassifier(n_estimators=100)\n",
    "rf.fit(X_train, y_train)\n",
    "\n",
    "importances = rf.feature_importances_\n",
    "std = np.std([tree.feature_importances_ for tree in rf.estimators_],\n",
    "             axis=0)\n",
    "indices = np.argsort(importances)[::-1]\n",
    "\n",
    "print(\"Feature ranking:\")\n",
    "\n",
    "for f in range(X_train.shape[1]):\n",
    "    print(\"%d. feature %s (%f)\" % (f + 1, train_work.columns[indices[f]], importances[indices[f]]))"
   ]
  },
  {
   "cell_type": "code",
   "execution_count": 40,
   "metadata": {},
   "outputs": [
    {
     "data": {
      "text/plain": [
       "0.7567451684049196"
      ]
     },
     "execution_count": 40,
     "metadata": {},
     "output_type": "execute_result"
    }
   ],
   "source": [
    "roc_auc_score(y_test, dtc.predict_proba(X_test)[:,1])"
   ]
  },
  {
   "cell_type": "code",
   "execution_count": 41,
   "metadata": {},
   "outputs": [
    {
     "data": {
      "text/plain": [
       "0.9229003775559792"
      ]
     },
     "execution_count": 41,
     "metadata": {},
     "output_type": "execute_result"
    }
   ],
   "source": [
    "roc_auc_score(y_test, lr.predict_proba(X_test)[:,1])"
   ]
  },
  {
   "cell_type": "code",
   "execution_count": 42,
   "metadata": {},
   "outputs": [
    {
     "data": {
      "text/plain": [
       "0.8169720758102501"
      ]
     },
     "execution_count": 42,
     "metadata": {},
     "output_type": "execute_result"
    }
   ],
   "source": [
    "roc_auc_score(y_test, knn.predict_proba(X_test)[:,1])"
   ]
  },
  {
   "cell_type": "code",
   "execution_count": 43,
   "metadata": {},
   "outputs": [
    {
     "data": {
      "text/plain": [
       "3.0324963551161574"
      ]
     },
     "execution_count": 43,
     "metadata": {},
     "output_type": "execute_result"
    }
   ],
   "source": [
    "from sklearn.metrics import log_loss\n",
    "log_loss(y_test, dtc.predict_proba(X_test)[:,1])"
   ]
  },
  {
   "cell_type": "code",
   "execution_count": 44,
   "metadata": {},
   "outputs": [
    {
     "data": {
      "text/plain": [
       "0.4332052279325089"
      ]
     },
     "execution_count": 44,
     "metadata": {},
     "output_type": "execute_result"
    }
   ],
   "source": [
    "log_loss(y_test, lr.predict_proba(X_test)[:,1])"
   ]
  },
  {
   "cell_type": "code",
   "execution_count": 45,
   "metadata": {},
   "outputs": [
    {
     "data": {
      "text/plain": [
       "1.501744123877543"
      ]
     },
     "execution_count": 45,
     "metadata": {},
     "output_type": "execute_result"
    }
   ],
   "source": [
    "log_loss(y_test, knn.predict_proba(X_test)[:,1])"
   ]
  },
  {
   "cell_type": "code",
   "execution_count": 46,
   "metadata": {},
   "outputs": [],
   "source": [
    "train_work_tmp = train_work.copy()\n",
    "train_work_tmp['dtc'] = dtc.predict_proba(train_work)[:,1]\n",
    "\n",
    "\n",
    "train_work_tmp['rf'] = rf.predict_proba(train_work)[:,1]\n",
    "train_work = train_work_tmp\n",
    "\n",
    "test_work_tmp = test_work.copy()\n",
    "test_work_tmp['dtc'] = dtc.predict_proba(test_work)[:,1]\n",
    "\n",
    "\n",
    "test_work_tmp['rf'] = rf.predict_proba(test_work)[:,1]\n",
    "test_work = test_work_tmp"
   ]
  },
  {
   "cell_type": "code",
   "execution_count": 52,
   "metadata": {},
   "outputs": [
    {
     "data": {
      "text/plain": [
       "0.9282150199992524"
      ]
     },
     "execution_count": 52,
     "metadata": {},
     "output_type": "execute_result"
    }
   ],
   "source": [
    "X_train, X_test, y_train, y_test = train_test_split(train_work, y, test_size=0.33, random_state=42)\n",
    "lr.fit(X_train, y_train)\n",
    "roc_auc_score(y_test, lr.predict_proba(X_test)[:,1])"
   ]
  },
  {
   "cell_type": "code",
   "execution_count": 50,
   "metadata": {},
   "outputs": [
    {
     "data": {
      "text/plain": [
       "0.39177594646622066"
      ]
     },
     "execution_count": 50,
     "metadata": {},
     "output_type": "execute_result"
    }
   ],
   "source": [
    "log_loss(y_test, lr.predict_proba(X_test)[:,1])"
   ]
  },
  {
   "cell_type": "code",
   "execution_count": 51,
   "metadata": {},
   "outputs": [],
   "source": [
    "result_predict = pd.DataFrame(data={'_id': test['_id'], 'target': lr.predict_proba(test_work)[:,1]})"
   ]
  },
  {
   "cell_type": "code",
   "execution_count": 38,
   "metadata": {},
   "outputs": [],
   "source": [
    "result_predict.to_csv('submit.csv', index=False)"
   ]
  },
  {
   "cell_type": "code",
   "execution_count": null,
   "metadata": {},
   "outputs": [],
   "source": []
  }
 ],
 "metadata": {
  "kernelspec": {
   "display_name": "Python 3",
   "language": "python",
   "name": "python3"
  },
  "language_info": {
   "codemirror_mode": {
    "name": "ipython",
    "version": 3
   },
   "file_extension": ".py",
   "mimetype": "text/x-python",
   "name": "python",
   "nbconvert_exporter": "python",
   "pygments_lexer": "ipython3",
   "version": "3.6.5"
  }
 },
 "nbformat": 4,
 "nbformat_minor": 2
}
