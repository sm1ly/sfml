{
 "cells": [
  {
   "cell_type": "code",
   "execution_count": 1,
   "metadata": {},
   "outputs": [
    {
     "name": "stderr",
     "output_type": "stream",
     "text": [
      "D:\\Anaconda\\lib\\site-packages\\sklearn\\cross_validation.py:41: DeprecationWarning: This module was deprecated in version 0.18 in favor of the model_selection module into which all the refactored classes and functions are moved. Also note that the interface of the new CV iterators are different from that of this module. This module will be removed in 0.20.\n",
      "  \"This module will be removed in 0.20.\", DeprecationWarning)\n"
     ]
    }
   ],
   "source": [
    "import pandas as pd\n",
    "import numpy as np\n",
    "\n",
    "from IPython.display import Image\n",
    "\n",
    "from sklearn.model_selection import train_test_split\n",
    "\n",
    "from sklearn.tree import DecisionTreeClassifier\n",
    "from sklearn.neighbors import KNeighborsClassifier\n",
    "from sklearn.linear_model import LogisticRegression\n",
    "\n",
    "from sklearn.metrics import roc_auc_score\n",
    "\n",
    "from sklearn.cross_validation import cross_val_score\n",
    "from sklearn.model_selection import StratifiedKFold\n",
    "\n",
    "import numpy as np\n",
    "import pandas as pd\n",
    "\n",
    "import matplotlib.pyplot as plt\n",
    "\n",
    "from sklearn.datasets import make_classification\n",
    "from sklearn.ensemble import ExtraTreesClassifier\n",
    "\n",
    "cv = StratifiedKFold(n_splits=10, shuffle=True, random_state=42)\n",
    "\n",
    "df_train = pd.read_csv('sf04classification/train.csv', encoding='utf8', index_col='_id')\n",
    "df_test = pd.read_csv('sf04classification/test.csv', encoding='utf8', index_col='_id')\n",
    "\n",
    "train = pd.read_csv('sf04classification/train.csv', encoding='utf8', index_col='_id')\n",
    "test = pd.read_csv('sf04classification/test.csv', encoding='utf8', index_col='_id')"
   ]
  },
  {
   "cell_type": "code",
   "execution_count": null,
   "metadata": {},
   "outputs": [],
   "source": [
    "def getDurationClass(d, df):\n",
    "    durationStd = df.duration.std()\n",
    "    durationMin = df.duration.min()\n",
    "    durationMax = df.duration.max()\n",
    "    return {\n",
    "        (100 <= d <= 700) : True,\n",
    "        (d < 100) | (700 < d): False\n",
    "    }[True]\n",
    "\n",
    "def isBad(df):\n",
    "    return ((df['pdays']==999) | (df['pdays']==0)) & (df['previous']>0)\n",
    "    \n",
    "def preproc_data(df_input):\n",
    "    df_output = df_input.copy()\n",
    "    \n",
    "    df_output = df_output.drop('_id', axis=1)\n",
    "    \n",
    "    months = ['jan', 'feb', 'mar', 'apr', 'may', 'jul', 'jun', 'aug', 'sep', 'oct', 'nov','dec']\n",
    "    df_output['kvartal'] = df_output['month'].apply(lambda m : months.index(m)/3+1)\n",
    "    \n",
    "    job = list(set(df_output['job']))\n",
    "    df_output['job'] = df_output.job.apply(lambda r: job.index(r))\n",
    "\n",
    "    month = list(set(df_output['month']))\n",
    "    df_output['month'] = df_output.month.apply(lambda r: month.index(r))   \n",
    "    \n",
    "    day_of_week = list(set(df_output['day_of_week']))\n",
    "    df_output['day_of_week'] = df_output.day_of_week.apply(lambda r: day_of_week.index(r)) \n",
    "    df_output['work_day'] = df_output.day_of_week.apply(lambda r: r < 6) \n",
    "\n",
    "    df_output['pdays'] = df_output['pdays'].apply(lambda d: 0 if d == 999 else d)\n",
    "    df_output['duration_class'] = df_output['duration'].apply(lambda d: getDurationClass(d, df_output))\n",
    "\n",
    "    df_output['duration_interrupted'] = df_output['duration'].apply(lambda d: 0 if d < 30 else d)\n",
    "\n",
    "\n",
    "    df_output = pd.get_dummies(df_output, columns=[\n",
    "         'marital',\n",
    "         'education',\n",
    "         'default',\n",
    "         'housing',\n",
    "         'loan',\n",
    "         'contact',\n",
    "         'poutcome'\n",
    "    ])\n",
    "    \n",
    "    return df_output"
   ]
  },
  {
   "cell_type": "code",
   "execution_count": null,
   "metadata": {},
   "outputs": [],
   "source": [
    "y = train['target']\n",
    "train = train.drop('target', axis=1)"
   ]
  },
  {
   "cell_type": "code",
   "execution_count": null,
   "metadata": {},
   "outputs": [],
   "source": [
    "train_work = preproc_data(train)\n",
    "test_work = preproc_data(test)"
   ]
  },
  {
   "cell_type": "code",
   "execution_count": null,
   "metadata": {},
   "outputs": [],
   "source": [
    "X_train, X_test, y_train, y_test = train_test_split(train_work, y, test_size=0.33, random_state=42)"
   ]
  },
  {
   "cell_type": "code",
   "execution_count": null,
   "metadata": {},
   "outputs": [],
   "source": []
  },
  {
   "cell_type": "code",
   "execution_count": null,
   "metadata": {},
   "outputs": [],
   "source": []
  },
  {
   "cell_type": "code",
   "execution_count": null,
   "metadata": {},
   "outputs": [],
   "source": []
  },
  {
   "cell_type": "code",
   "execution_count": null,
   "metadata": {},
   "outputs": [],
   "source": []
  },
  {
   "cell_type": "code",
   "execution_count": 6,
   "metadata": {},
   "outputs": [],
   "source": [
    "lr = LogisticRegression(n_jobs=-1, class_weight='balanced', solver='newton-cg', multi_class='multinomial')"
   ]
  },
  {
   "cell_type": "code",
   "execution_count": 7,
   "metadata": {
    "collapsed": true
   },
   "outputs": [
    {
     "name": "stderr",
     "output_type": "stream",
     "text": [
      "/usr/lib64/python3.6/site-packages/scipy/optimize/linesearch.py:461: LineSearchWarning: The line search algorithm did not converge\n",
      "  warn('The line search algorithm did not converge', LineSearchWarning)\n",
      "/usr/lib64/python3.6/site-packages/scipy/optimize/linesearch.py:312: LineSearchWarning: The line search algorithm did not converge\n",
      "  warn('The line search algorithm did not converge', LineSearchWarning)\n",
      "/usr/lib64/python3.6/site-packages/scipy/optimize/linesearch.py:461: LineSearchWarning: The line search algorithm did not converge\n",
      "  warn('The line search algorithm did not converge', LineSearchWarning)\n",
      "/usr/lib64/python3.6/site-packages/scipy/optimize/linesearch.py:312: LineSearchWarning: The line search algorithm did not converge\n",
      "  warn('The line search algorithm did not converge', LineSearchWarning)\n",
      "/usr/lib64/python3.6/site-packages/scipy/optimize/linesearch.py:312: LineSearchWarning: The line search algorithm did not converge\n",
      "  warn('The line search algorithm did not converge', LineSearchWarning)\n",
      "/usr/local/lib64/python3.6/site-packages/sklearn/utils/optimize.py:195: UserWarning: Line Search failed\n",
      "  warnings.warn('Line Search failed')\n",
      "/usr/lib64/python3.6/site-packages/scipy/optimize/linesearch.py:461: LineSearchWarning: The line search algorithm did not converge\n",
      "  warn('The line search algorithm did not converge', LineSearchWarning)\n",
      "/usr/lib64/python3.6/site-packages/scipy/optimize/linesearch.py:312: LineSearchWarning: The line search algorithm did not converge\n",
      "  warn('The line search algorithm did not converge', LineSearchWarning)\n",
      "/usr/local/lib64/python3.6/site-packages/sklearn/utils/optimize.py:203: ConvergenceWarning: newton-cg failed to converge. Increase the number of iterations.\n",
      "  \"number of iterations.\", ConvergenceWarning)\n",
      "/usr/lib64/python3.6/site-packages/scipy/optimize/linesearch.py:461: LineSearchWarning: The line search algorithm did not converge\n",
      "  warn('The line search algorithm did not converge', LineSearchWarning)\n",
      "/usr/lib64/python3.6/site-packages/scipy/optimize/linesearch.py:312: LineSearchWarning: The line search algorithm did not converge\n",
      "  warn('The line search algorithm did not converge', LineSearchWarning)\n",
      "/usr/local/lib64/python3.6/site-packages/sklearn/utils/optimize.py:195: UserWarning: Line Search failed\n",
      "  warnings.warn('Line Search failed')\n",
      "/usr/lib64/python3.6/site-packages/scipy/optimize/linesearch.py:461: LineSearchWarning: The line search algorithm did not converge\n",
      "  warn('The line search algorithm did not converge', LineSearchWarning)\n",
      "/usr/lib64/python3.6/site-packages/scipy/optimize/linesearch.py:312: LineSearchWarning: The line search algorithm did not converge\n",
      "  warn('The line search algorithm did not converge', LineSearchWarning)\n",
      "/usr/local/lib64/python3.6/site-packages/sklearn/utils/optimize.py:203: ConvergenceWarning: newton-cg failed to converge. Increase the number of iterations.\n",
      "  \"number of iterations.\", ConvergenceWarning)\n",
      "/usr/lib64/python3.6/site-packages/scipy/optimize/linesearch.py:461: LineSearchWarning: The line search algorithm did not converge\n",
      "  warn('The line search algorithm did not converge', LineSearchWarning)\n",
      "/usr/lib64/python3.6/site-packages/scipy/optimize/linesearch.py:312: LineSearchWarning: The line search algorithm did not converge\n",
      "  warn('The line search algorithm did not converge', LineSearchWarning)\n",
      "/usr/lib64/python3.6/site-packages/scipy/optimize/linesearch.py:461: LineSearchWarning: The line search algorithm did not converge\n",
      "  warn('The line search algorithm did not converge', LineSearchWarning)\n",
      "/usr/lib64/python3.6/site-packages/scipy/optimize/linesearch.py:312: LineSearchWarning: The line search algorithm did not converge\n",
      "  warn('The line search algorithm did not converge', LineSearchWarning)\n",
      "/usr/local/lib64/python3.6/site-packages/sklearn/utils/optimize.py:195: UserWarning: Line Search failed\n",
      "  warnings.warn('Line Search failed')\n",
      "/usr/lib64/python3.6/site-packages/scipy/optimize/linesearch.py:461: LineSearchWarning: The line search algorithm did not converge\n",
      "  warn('The line search algorithm did not converge', LineSearchWarning)\n",
      "/usr/lib64/python3.6/site-packages/scipy/optimize/linesearch.py:312: LineSearchWarning: The line search algorithm did not converge\n",
      "  warn('The line search algorithm did not converge', LineSearchWarning)\n",
      "/usr/local/lib64/python3.6/site-packages/sklearn/utils/optimize.py:195: UserWarning: Line Search failed\n",
      "  warnings.warn('Line Search failed')\n"
     ]
    },
    {
     "name": "stdout",
     "output_type": "stream",
     "text": [
      "LogisticRegression ROC_AUC: 0.9270904983605643\n"
     ]
    }
   ],
   "source": [
    "print('LogisticRegression ROC_AUC: {}'.format(np.mean(\n",
    "    cross_val_score(lr, x, y, scoring='roc_auc', cv=cv.split(x, y)))))"
   ]
  },
  {
   "cell_type": "code",
   "execution_count": null,
   "metadata": {},
   "outputs": [],
   "source": []
  },
  {
   "cell_type": "code",
   "execution_count": null,
   "metadata": {},
   "outputs": [],
   "source": [
    "lr = LogisticRegression(n_jobs=-1, class_weight='balanced', solver='newton-cg', multi_class='multinomial')\n",
    "\n",
    "dtc = DecisionTreeClassifier(max_depth=100, criterion='entropy')\n",
    "\n",
    "knn = KNeighborsClassifier(n_jobs=-1, n_neighbors=1000, algorithm=\"brute\", weights=\"distance\")"
   ]
  },
  {
   "cell_type": "code",
   "execution_count": null,
   "metadata": {
    "scrolled": true
   },
   "outputs": [],
   "source": [
    "print('DecisionTreeClassifier ROC_AUC: {}'.format(np.mean(\n",
    "    cross_val_score(dtc, x, y, scoring='roc_auc', cv=cv.split(x, y)))))\n",
    "print('KNeighborsClassifier ROC_AUC: {}'.format(np.mean(\n",
    "    cross_val_score(knn, x, y, scoring='roc_auc', cv=cv.split(x, y)))))\n",
    "print('LogisticRegression ROC_AUC: {}'.format(np.mean(\n",
    "    cross_val_score(lr, x, y, scoring='roc_auc', cv=cv.split(x, y)))))"
   ]
  },
  {
   "cell_type": "code",
   "execution_count": null,
   "metadata": {},
   "outputs": [],
   "source": []
  },
  {
   "cell_type": "code",
   "execution_count": null,
   "metadata": {},
   "outputs": [],
   "source": []
  },
  {
   "cell_type": "code",
   "execution_count": null,
   "metadata": {},
   "outputs": [],
   "source": []
  },
  {
   "cell_type": "code",
   "execution_count": null,
   "metadata": {},
   "outputs": [],
   "source": [
    "df_test = pd.read_csv('sf04classification/test.csv', encoding='utf8')\n",
    "ans = lr.predict_proba(preproc_data(df_test.drop(['_id'], axis=1)))[:,1]\n",
    "result = pd.DataFrame()\n",
    "result['_id'] = df_test['_id']\n",
    "result['target'] = ans\n",
    "result.to_csv('submit.csv', index=False)"
   ]
  },
  {
   "cell_type": "code",
   "execution_count": null,
   "metadata": {},
   "outputs": [],
   "source": []
  },
  {
   "cell_type": "code",
   "execution_count": null,
   "metadata": {},
   "outputs": [],
   "source": []
  },
  {
   "cell_type": "code",
   "execution_count": null,
   "metadata": {},
   "outputs": [],
   "source": []
  },
  {
   "cell_type": "code",
   "execution_count": 9,
   "metadata": {},
   "outputs": [
    {
     "data": {
      "image/png": "[encoded data removed]",
      "text/plain": [
       "<matplotlib.figure.Figure at 0x7f91f406be48>"
      ]
     },
     "metadata": {},
     "output_type": "display_data"
    }
   ],
   "source": [
    "# plot feature importance manually\n",
    "from numpy import loadtxt\n",
    "from xgboost import XGBClassifier\n",
    "import matplotlib.pyplot as plt\n",
    "from xgboost import plot_importance\n",
    "\n",
    "x = preproc_data(df_train).drop(['target'], axis=1)\n",
    "y = df_train['target']\n",
    "\n",
    "# fit model no training data\n",
    "model = XGBClassifier()\n",
    "model.fit(x, y)\n",
    "# feature importance\n",
    "#print(model.feature_importances_)\n",
    "# plot\n",
    "#pyplot.bar(range(len(model.feature_importances_)), model.feature_importances_)\n",
    "#pyplot.show()\n",
    "\n",
    "# Get current size\n",
    "fig_size = plt.rcParams[\"figure.figsize\"]\n",
    " \n",
    "# Set figure width to 12 and height to 9\n",
    "fig_size[0] = 14\n",
    "fig_size[1] = 10\n",
    "plt.rcParams[\"figure.figsize\"] = fig_size\n",
    "\n",
    "\n",
    "plot_importance(model)\n",
    "plt.show()"
   ]
  },
  {
   "cell_type": "code",
   "execution_count": null,
   "metadata": {},
   "outputs": [],
   "source": []
  },
  {
   "cell_type": "code",
   "execution_count": null,
   "metadata": {},
   "outputs": [],
   "source": []
  },
  {
   "cell_type": "code",
   "execution_count": null,
   "metadata": {},
   "outputs": [],
   "source": []
  },
  {
   "cell_type": "code",
   "execution_count": null,
   "metadata": {},
   "outputs": [],
   "source": [
    "#my \n",
    "def preproc_data(df_input):\n",
    "    df_output = df_input.copy()\n",
    "    \n",
    "    df_output = df_output.drop(['month', 'day_of_week', 'default',\n",
    "                                'contact', 'pdays', 'nr.employed',\n",
    "                               'emp.var.rate', 'cons.price.idx', 'cons.conf.idx', 'euribor3m'], axis = 1)\n",
    "\n",
    "    # category code\n",
    "    df_output = pd.get_dummies(df_output, columns=['job', 'marital', 'education', 'housing', 'loan', 'poutcome'])\n",
    "        \n",
    "    return df_output\n",
    "\n",
    "\n",
    "#my2\n",
    "# LogisticRegression ROC_AUC: 0.9270904983605643\n",
    "def preproc_data(df_input):\n",
    "    df_output = df_input.copy()\n",
    "    \n",
    "    df_output['default'] = df_output['default'].apply(lambda x: 0 if x == 'no' else 1)\n",
    "    \n",
    "    df_output = df_output.drop(['month', 'day_of_week', 'pdays', 'nr.employed',\n",
    "                                'job', 'education', 'marital', 'housing', 'previous'], axis = 1)\n",
    "\n",
    "    # category code\n",
    "    df_output = pd.get_dummies(df_output, columns=[ 'loan', 'poutcome', 'contact'])\n",
    "        \n",
    "    return df_output\n",
    "\n",
    "\n",
    "#ivan\n",
    "# LogisticRegression ROC_AUC: 0.9254685244420802\n",
    "def preproc_data(df_input):\n",
    "    df_output = df_input.copy()\n",
    "    \n",
    "    df_output = df_output.drop(['month', 'day_of_week', 'default', 'contact', 'pdays', 'nr.employed'], axis = 1)\n",
    "\n",
    "    # category code\n",
    "    df_output = pd.get_dummies(df_output, columns=['job', 'marital', 'education', 'housing', 'loan', 'poutcome'])\n",
    "        \n",
    "    return df_output\n",
    "\n",
    "#katya\n",
    "# LogisticRegression ROC_AUC: 0.9260193762115682\n",
    "def preproc_data(df_input):\n",
    "    df_output = df_input.copy()\n",
    "    \n",
    "    df_output['default'] = df_output['default'].apply(lambda x: 0 if x == 'no' else 1)\n",
    "    \n",
    "    df_output = df_output.drop(['month', 'day_of_week', 'contact', 'pdays', 'nr.employed'], axis = 1)\n",
    "\n",
    "    # category code\n",
    "    df_output = pd.get_dummies(df_output, columns=['job', 'marital', 'education', 'housing', 'loan', 'poutcome'])\n",
    "        \n",
    "    return df_output"
   ]
  },
  {
   "cell_type": "code",
   "execution_count": null,
   "metadata": {},
   "outputs": [],
   "source": []
  },
  {
   "cell_type": "code",
   "execution_count": null,
   "metadata": {},
   "outputs": [],
   "source": []
  },
  {
   "cell_type": "code",
   "execution_count": null,
   "metadata": {},
   "outputs": [],
   "source": []
  }
 ],
 "metadata": {
  "kernelspec": {
   "display_name": "Python 3",
   "language": "python",
   "name": "python3"
  },
  "language_info": {
   "codemirror_mode": {
    "name": "ipython",
    "version": 3
   },
   "file_extension": ".py",
   "mimetype": "text/x-python",
   "name": "python",
   "nbconvert_exporter": "python",
   "pygments_lexer": "ipython3",
   "version": "3.6.5"
  }
 },
 "nbformat": 4,
 "nbformat_minor": 2
}
